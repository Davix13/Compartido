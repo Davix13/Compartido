{
 "cells": [
  {
   "cell_type": "code",
   "execution_count": 18,
   "metadata": {},
   "outputs": [
    {
     "name": "stdout",
     "output_type": "stream",
     "text": [
      "longitude             0\n",
      "latitude              0\n",
      "housing_median_age    0\n",
      "total_rooms           0\n",
      "total_bedrooms        0\n",
      "population            0\n",
      "households            0\n",
      "median_income         0\n",
      "dtype: int64\n"
     ]
    },
    {
     "data": {
      "text/html": [
       "<div>\n",
       "<style scoped>\n",
       "    .dataframe tbody tr th:only-of-type {\n",
       "        vertical-align: middle;\n",
       "    }\n",
       "\n",
       "    .dataframe tbody tr th {\n",
       "        vertical-align: top;\n",
       "    }\n",
       "\n",
       "    .dataframe thead th {\n",
       "        text-align: right;\n",
       "    }\n",
       "</style>\n",
       "<table border=\"1\" class=\"dataframe\">\n",
       "  <thead>\n",
       "    <tr style=\"text-align: right;\">\n",
       "      <th></th>\n",
       "      <th>longitude</th>\n",
       "      <th>latitude</th>\n",
       "      <th>housing_median_age</th>\n",
       "      <th>total_rooms</th>\n",
       "      <th>total_bedrooms</th>\n",
       "      <th>population</th>\n",
       "      <th>households</th>\n",
       "      <th>median_income</th>\n",
       "    </tr>\n",
       "  </thead>\n",
       "  <tbody>\n",
       "    <tr>\n",
       "      <th>1606</th>\n",
       "      <td>-121.14</td>\n",
       "      <td>40.29</td>\n",
       "      <td>17.0</td>\n",
       "      <td>1944.0</td>\n",
       "      <td>394.0</td>\n",
       "      <td>384.0</td>\n",
       "      <td>172.0</td>\n",
       "      <td>1.6875</td>\n",
       "    </tr>\n",
       "    <tr>\n",
       "      <th>4186</th>\n",
       "      <td>-118.45</td>\n",
       "      <td>34.29</td>\n",
       "      <td>30.0</td>\n",
       "      <td>762.0</td>\n",
       "      <td>228.0</td>\n",
       "      <td>840.0</td>\n",
       "      <td>226.0</td>\n",
       "      <td>2.3375</td>\n",
       "    </tr>\n",
       "  </tbody>\n",
       "</table>\n",
       "</div>"
      ],
      "text/plain": [
       "      longitude  latitude  housing_median_age  total_rooms  total_bedrooms  \\\n",
       "1606    -121.14     40.29                17.0       1944.0           394.0   \n",
       "4186    -118.45     34.29                30.0        762.0           228.0   \n",
       "\n",
       "      population  households  median_income  \n",
       "1606       384.0       172.0         1.6875  \n",
       "4186       840.0       226.0         2.3375  "
      ]
     },
     "execution_count": 18,
     "metadata": {},
     "output_type": "execute_result"
    }
   ],
   "source": [
    "from sklearn.impute import KNNImputer\n",
    "import pandas as pd\n",
    "import numpy as np\n",
    "from sklearn.model_selection import train_test_split\n",
    "housing = pd.read_csv(\"./data/housing.csv\") \n",
    "\n",
    "# Generación de conjuntos de entrenamiento y prueba mediante muestreo estratificado por ingreso medio\n",
    "train_set, test_set = train_test_split(housing, test_size=0.2,\n",
    "    stratify=pd.cut(housing[\"median_income\"], bins=[0., 1.5, 3.0, 4.5, 6., np.inf], labels=[1, 2, 3, 4, 5]),\n",
    "    random_state=42\n",
    "    )\n",
    "\n",
    "housing = train_set.drop(\"median_house_value\", axis=1) # Eliminamos la columna de la variable dependiente\n",
    "housing_labels = train_set[\"median_house_value\"].copy() # Guardamos la variable dependiente (etiquetas)\n",
    "\n",
    "\n",
    "housing.head()\n",
    "housing = housing.drop(\"ocean_proximity\",axis=1)\n",
    "housing.head()\n",
    "imputer = KNNImputer(n_neighbors=3)\n",
    "housing_imputed =imputer.fit_transform(housing)\n",
    "df_imputed = pd.DataFrame(housing_imputed,columns=housing.columns)\n",
    "print(df_imputed.isnull().sum())\n",
    "df_imputed.loc[[1606,4186]]"
   ]
  },
  {
   "cell_type": "code",
   "execution_count": null,
   "metadata": {},
   "outputs": [],
   "source": []
  }
 ],
 "metadata": {
  "kernelspec": {
   "display_name": "Python 3",
   "language": "python",
   "name": "python3"
  },
  "language_info": {
   "codemirror_mode": {
    "name": "ipython",
    "version": 3
   },
   "file_extension": ".py",
   "mimetype": "text/x-python",
   "name": "python",
   "nbconvert_exporter": "python",
   "pygments_lexer": "ipython3",
   "version": "3.11.3"
  }
 },
 "nbformat": 4,
 "nbformat_minor": 2
}
