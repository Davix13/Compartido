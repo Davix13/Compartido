{
 "cells": [
  {
   "cell_type": "code",
   "execution_count": 18,
   "metadata": {},
   "outputs": [
    {
     "name": "stdout",
     "output_type": "stream",
     "text": [
      "longitude             0\n",
      "latitude              0\n",
      "housing_median_age    0\n",
      "total_rooms           0\n",
      "total_bedrooms        0\n",
      "population            0\n",
      "households            0\n",
      "median_income         0\n",
      "dtype: int64\n"
     ]
    },
    {
     "data": {
      "text/html": [
       "<div>\n",
       "<style scoped>\n",
       "    .dataframe tbody tr th:only-of-type {\n",
       "        vertical-align: middle;\n",
       "    }\n",
       "\n",
       "    .dataframe tbody tr th {\n",
       "        vertical-align: top;\n",
       "    }\n",
       "\n",
       "    .dataframe thead th {\n",
       "        text-align: right;\n",
       "    }\n",
       "</style>\n",
       "<table border=\"1\" class=\"dataframe\">\n",
       "  <thead>\n",
       "    <tr style=\"text-align: right;\">\n",
       "      <th></th>\n",
       "      <th>longitude</th>\n",
       "      <th>latitude</th>\n",
       "      <th>housing_median_age</th>\n",
       "      <th>total_rooms</th>\n",
       "      <th>total_bedrooms</th>\n",
       "      <th>population</th>\n",
       "      <th>households</th>\n",
       "      <th>median_income</th>\n",
       "    </tr>\n",
       "  </thead>\n",
       "  <tbody>\n",
       "    <tr>\n",
       "      <th>1606</th>\n",
       "      <td>-121.14</td>\n",
       "      <td>40.29</td>\n",
       "      <td>17.0</td>\n",
       "      <td>1944.0</td>\n",
       "      <td>394.0</td>\n",
       "      <td>384.0</td>\n",
       "      <td>172.0</td>\n",
       "      <td>1.6875</td>\n",
       "    </tr>\n",
       "    <tr>\n",
       "      <th>4186</th>\n",
       "      <td>-118.45</td>\n",
       "      <td>34.29</td>\n",
       "      <td>30.0</td>\n",
       "      <td>762.0</td>\n",
       "      <td>228.0</td>\n",
       "      <td>840.0</td>\n",
       "      <td>226.0</td>\n",
       "      <td>2.3375</td>\n",
       "    </tr>\n",
       "  </tbody>\n",
       "</table>\n",
       "</div>"
      ],
      "text/plain": [
       "      longitude  latitude  housing_median_age  total_rooms  total_bedrooms  \\\n",
       "1606    -121.14     40.29                17.0       1944.0           394.0   \n",
       "4186    -118.45     34.29                30.0        762.0           228.0   \n",
       "\n",
       "      population  households  median_income  \n",
       "1606       384.0       172.0         1.6875  \n",
       "4186       840.0       226.0         2.3375  "
      ]
     },
     "execution_count": 18,
     "metadata": {},
     "output_type": "execute_result"
    }
   ],
   "source": [
    "# Define las columnas numéricas y categóricas\n",
    "numeric_features = X_train.select_dtypes(include=['int64', 'float64']).columns\n",
    "categorical_features = ['ocean_proximity']\n",
    "\n",
    "# Define la transformación para las características categóricas (OneHotEncoder)\n",
    "categorical_transformer = OneHotEncoder()\n",
    "\n",
    "# Aplicar la transformación a las características categóricas\n",
    "X_train_cat_encoded = categorical_transformer.fit_transform(X_train[categorical_features])\n",
    "\n",
    "# Obtener los nombres de las columnas codificadas\n",
    "encoded_column_names = categorical_transformer.get_feature_names_out(categorical_features)\n",
    "\n",
    "# Crear un DataFrame con las características categóricas codificadas\n",
    "X_train_cat_encoded_df = pd.DataFrame(X_train_cat_encoded.toarray(), columns=encoded_column_names)\n",
    "\n",
    "# Restablecer los índices de los DataFrames antes de la concatenación\n",
    "X_train_reset_index = X_train.drop(columns=categorical_features).reset_index(drop=True)\n",
    "X_train_cat_encoded_df_reset_index = X_train_cat_encoded_df.reset_index(drop=True)\n",
    "\n",
    "# Combinar las características numéricas originales con las características categóricas codificadas\n",
    "X_train_combined = pd.concat([X_train_reset_index, X_train_cat_encoded_df_reset_index], axis=1)\n",
    "print(X_train_combined.shape[0])\n",
    "\n",
    "# Define la transformación para las características numéricas (StandardScaler)\n",
    "numeric_transformer = StandardScaler()\n",
    "\n",
    "# Aplicar la transformación numérica a las columnas resultantes de la codificación One-Hot\n",
    "X_train_combined_scaled = numeric_transformer.fit_transform(X_train_combined)\n",
    "\n",
    "# Convertir el resultado en un DataFrame\n",
    "X_train_combined_scaled_df = pd.DataFrame(X_train_combined_scaled, columns=X_train_combined.columns)\n",
    "print(X_train_combined_scaled_df.isna().any())"
   ]
  },
  {
   "cell_type": "code",
   "execution_count": null,
   "metadata": {},
   "outputs": [],
   "source": []
  }
 ],
 "metadata": {
  "kernelspec": {
   "display_name": "Python 3",
   "language": "python",
   "name": "python3"
  },
  "language_info": {
   "codemirror_mode": {
    "name": "ipython",
    "version": 3
   },
   "file_extension": ".py",
   "mimetype": "text/x-python",
   "name": "python",
   "nbconvert_exporter": "python",
   "pygments_lexer": "ipython3",
   "version": "3.11.3"
  }
 },
 "nbformat": 4,
 "nbformat_minor": 2
}
